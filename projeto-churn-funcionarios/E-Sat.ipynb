{
 "cells": [
  {
   "cell_type": "markdown",
   "id": "eb6df72a-ca66-4553-b012-80b77d63c534",
   "metadata": {},
   "source": [
    "# E-Sat"
   ]
  },
  {
   "cell_type": "code",
   "execution_count": 2,
   "id": "23470e37-a406-4f33-b819-f9c8c8566001",
   "metadata": {},
   "outputs": [
    {
     "data": {
      "text/html": [
       "<div>\n",
       "<style scoped>\n",
       "    .dataframe tbody tr th:only-of-type {\n",
       "        vertical-align: middle;\n",
       "    }\n",
       "\n",
       "    .dataframe tbody tr th {\n",
       "        vertical-align: top;\n",
       "    }\n",
       "\n",
       "    .dataframe thead th {\n",
       "        text-align: right;\n",
       "    }\n",
       "</style>\n",
       "<table border=\"1\" class=\"dataframe\">\n",
       "  <thead>\n",
       "    <tr style=\"text-align: right;\">\n",
       "      <th></th>\n",
       "      <th>Freq. Absoluta</th>\n",
       "      <th>Freq. Relativa</th>\n",
       "    </tr>\n",
       "    <tr>\n",
       "      <th>E-Sat</th>\n",
       "      <th></th>\n",
       "      <th></th>\n",
       "    </tr>\n",
       "  </thead>\n",
       "  <tbody>\n",
       "    <tr>\n",
       "      <th>Alto</th>\n",
       "      <td>453</td>\n",
       "      <td>31.0</td>\n",
       "    </tr>\n",
       "    <tr>\n",
       "      <th>Muito Alto</th>\n",
       "      <td>446</td>\n",
       "      <td>30.0</td>\n",
       "    </tr>\n",
       "    <tr>\n",
       "      <th>Médio</th>\n",
       "      <td>287</td>\n",
       "      <td>20.0</td>\n",
       "    </tr>\n",
       "    <tr>\n",
       "      <th>Baixo</th>\n",
       "      <td>284</td>\n",
       "      <td>19.0</td>\n",
       "    </tr>\n",
       "  </tbody>\n",
       "</table>\n",
       "</div>"
      ],
      "text/plain": [
       "            Freq. Absoluta  Freq. Relativa\n",
       "E-Sat                                     \n",
       "Alto                   453            31.0\n",
       "Muito Alto             446            30.0\n",
       "Médio                  287            20.0\n",
       "Baixo                  284            19.0"
      ]
     },
     "metadata": {},
     "output_type": "display_data"
    }
   ],
   "source": [
    "import pandas as pd\n",
    "import numpy as np\n",
    "\n",
    "df = pd.read_csv(r\"C:\\Users\\rodol\\Videos\\Desktop\\Projetos\\Churn_funcionarios\\Base_RH_csv.csv\", sep=';', encoding='latin-1')\n",
    "\n",
    "def calcular_frequencias_coluna(df, coluna):\n",
    "    # Calcula a frequência absoluta\n",
    "    frequencias_absolutas = df[coluna].value_counts()\n",
    "    \n",
    "    # Total de elementos\n",
    "    total_elementos = len(df[coluna])\n",
    "    \n",
    "    # Calcula a frequência relativa\n",
    "    frequencias_relativas = (frequencias_absolutas / total_elementos)*100\n",
    "    \n",
    "    # Cria um DataFrame para organizar os resultados\n",
    "    resultados = pd.DataFrame({\n",
    "        'Freq. Absoluta': frequencias_absolutas,\n",
    "        'Freq. Relativa': round(frequencias_relativas,0)\n",
    "    })\n",
    "    \n",
    "    return resultados\n",
    "\n",
    "resultados = calcular_frequencias_coluna(df, 'E-Sat')\n",
    "display(resultados)"
   ]
  },
  {
   "cell_type": "code",
   "execution_count": 6,
   "id": "bb67eced-8f07-462b-9077-8aa51df91704",
   "metadata": {},
   "outputs": [
    {
     "data": {
      "image/png": "[encoded data removed]",
      "text/plain": [
       "<Figure size 640x480 with 1 Axes>"
      ]
     },
     "metadata": {},
     "output_type": "display_data"
    }
   ],
   "source": [
    "import pandas as pd\n",
    "import matplotlib.pyplot as plt\n",
    "\n",
    "# Criando um DataFrame de exemplo\n",
    "data = {\n",
    "    'Qtd Ações': ['Alto', 'Muito Alto', 'Médio', 'Baixo'],\n",
    "    'Valores': [453, 446, 287, 284]\n",
    "}\n",
    "df = pd.DataFrame(data)\n",
    "\n",
    "# Criando o gráfico de barras a partir da coluna 'Valores'\n",
    "bars = plt.bar(df['Qtd Ações'], df['Valores'], color='green')\n",
    "\n",
    "# Adicionando título e rótulos\n",
    "plt.title('Gráfico de Barras da variável E-Sat')\n",
    "plt.xlabel('E-Sat')\n",
    "plt.ylabel('Frequência')\n",
    "\n",
    "# Adicionando os rótulos nas barras\n",
    "for bar in bars:\n",
    "    yval = bar.get_height()\n",
    "    plt.text(bar.get_x() + bar.get_width()/2, yval, yval, ha='center', va='bottom')\n",
    "\n",
    "# Mostrando o gráfico\n",
    "plt.show()"
   ]
  }
 ],
 "metadata": {
  "kernelspec": {
   "display_name": "Python 3 (ipykernel)",
   "language": "python",
   "name": "python3"
  },
  "language_info": {
   "codemirror_mode": {
    "name": "ipython",
    "version": 3
   },
   "file_extension": ".py",
   "mimetype": "text/x-python",
   "name": "python",
   "nbconvert_exporter": "python",
   "pygments_lexer": "ipython3",
   "version": "3.11.7"
  }
 },
 "nbformat": 4,
 "nbformat_minor": 5
}
