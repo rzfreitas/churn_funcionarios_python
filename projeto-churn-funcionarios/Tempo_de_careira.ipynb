{
 "cells": [
  {
   "cell_type": "markdown",
   "id": "a09b4712-15ca-451c-bcef-7b06c3b600d0",
   "metadata": {},
   "source": [
    "# Tempo de carreira"
   ]
  },
  {
   "cell_type": "code",
   "execution_count": 56,
   "id": "d83322e6-9d28-481c-b74d-e69e1623564e",
   "metadata": {},
   "outputs": [
    {
     "data": {
      "text/html": [
       "<div>\n",
       "<style scoped>\n",
       "    .dataframe tbody tr th:only-of-type {\n",
       "        vertical-align: middle;\n",
       "    }\n",
       "\n",
       "    .dataframe tbody tr th {\n",
       "        vertical-align: top;\n",
       "    }\n",
       "\n",
       "    .dataframe thead th {\n",
       "        text-align: right;\n",
       "    }\n",
       "</style>\n",
       "<table border=\"1\" class=\"dataframe\">\n",
       "  <thead>\n",
       "    <tr style=\"text-align: right;\">\n",
       "      <th></th>\n",
       "      <th>Freq. Absoluta</th>\n",
       "      <th>Freq. Relativa (%)</th>\n",
       "      <th>Freq. Acumulada (%)</th>\n",
       "    </tr>\n",
       "    <tr>\n",
       "      <th>Grupos</th>\n",
       "      <th></th>\n",
       "      <th></th>\n",
       "      <th></th>\n",
       "    </tr>\n",
       "  </thead>\n",
       "  <tbody>\n",
       "    <tr>\n",
       "      <th>0-2</th>\n",
       "      <td>123</td>\n",
       "      <td>8.37</td>\n",
       "      <td>8.37</td>\n",
       "    </tr>\n",
       "    <tr>\n",
       "      <th>3-5</th>\n",
       "      <td>193</td>\n",
       "      <td>13.13</td>\n",
       "      <td>21.50</td>\n",
       "    </tr>\n",
       "    <tr>\n",
       "      <th>6-8</th>\n",
       "      <td>309</td>\n",
       "      <td>21.02</td>\n",
       "      <td>42.52</td>\n",
       "    </tr>\n",
       "    <tr>\n",
       "      <th>9-11</th>\n",
       "      <td>334</td>\n",
       "      <td>22.72</td>\n",
       "      <td>65.24</td>\n",
       "    </tr>\n",
       "    <tr>\n",
       "      <th>12-14</th>\n",
       "      <td>115</td>\n",
       "      <td>7.82</td>\n",
       "      <td>73.06</td>\n",
       "    </tr>\n",
       "    <tr>\n",
       "      <th>15-17</th>\n",
       "      <td>110</td>\n",
       "      <td>7.48</td>\n",
       "      <td>80.54</td>\n",
       "    </tr>\n",
       "    <tr>\n",
       "      <th>18-20</th>\n",
       "      <td>79</td>\n",
       "      <td>5.37</td>\n",
       "      <td>85.92</td>\n",
       "    </tr>\n",
       "    <tr>\n",
       "      <th>&gt;21</th>\n",
       "      <td>207</td>\n",
       "      <td>14.08</td>\n",
       "      <td>100.00</td>\n",
       "    </tr>\n",
       "  </tbody>\n",
       "</table>\n",
       "</div>"
      ],
      "text/plain": [
       "        Freq. Absoluta  Freq. Relativa (%)  Freq. Acumulada (%)\n",
       "Grupos                                                         \n",
       "0-2                123                8.37                 8.37\n",
       "3-5                193               13.13                21.50\n",
       "6-8                309               21.02                42.52\n",
       "9-11               334               22.72                65.24\n",
       "12-14              115                7.82                73.06\n",
       "15-17              110                7.48                80.54\n",
       "18-20               79                5.37                85.92\n",
       ">21                207               14.08               100.00"
      ]
     },
     "metadata": {},
     "output_type": "display_data"
    }
   ],
   "source": [
    "import pandas as pd\n",
    "\n",
    "df = pd.read_csv(r\"C:\\Users\\rodol\\Videos\\Desktop\\Projetos\\Churn_funcionarios\\Base_RH_csv2.csv\", sep=';', encoding='latin-1')\n",
    "\n",
    "# Criando um DataFrame\n",
    "data = {'Grupos': df['Tempo_de_carreira']}\n",
    "df = pd.DataFrame(data)\n",
    "\n",
    "# Definindo os intervalos\n",
    "bins = [0, 3, 6, 9, 12, 15, 18, 21, 90]\n",
    "labels = ['0-2', '3-5', '6-8', '9-11', '12-14', '15-17', '18-20', '>21']\n",
    "\n",
    "# Agrupando em intervalos\n",
    "df['Grupos'] = pd.cut(df['Grupos'], bins=bins, labels=labels, right=False)\n",
    "\n",
    "# Contando as frequências\n",
    "frequencias_absolutas = df['Grupos'].value_counts().sort_index()\n",
    "\n",
    "# Calculando a frequência relativa\n",
    "total_elementos = len(df)\n",
    "frequencias_relativas = (frequencias_absolutas / total_elementos) * 100\n",
    "\n",
    "# Calculando a frequência acumulada\n",
    "frequencias_acumuladas = frequencias_relativas.cumsum()\n",
    "\n",
    "# Criando um DataFrame com resultados\n",
    "resultados = pd.DataFrame({\n",
    "    'Freq. Absoluta': frequencias_absolutas,\n",
    "    'Freq. Relativa (%)': round(frequencias_relativas, 2),  # Arredondando para 2 casas decimais\n",
    "    'Freq. Acumulada (%)': round(frequencias_acumuladas,2)\n",
    "})\n",
    "\n",
    "display(resultados)"
   ]
  },
  {
   "cell_type": "code",
   "execution_count": 20,
   "id": "f5ad72a4-41f8-4710-a97c-c82d52cf2421",
   "metadata": {},
   "outputs": [
    {
     "name": "stdout",
     "output_type": "stream",
     "text": [
      "O Tempo_de_carreira mínimo é: 0\n",
      "Primeiro quartil (Q1): 6.0\n",
      "Segundo quartil (Q2 - Mediana): 10.0\n",
      "Terceiro quartil (Q3): 15.0\n",
      "O Tempo_de_carreira máximo é: 40\n",
      "A média de Tempo_de_carreira máximo é: 11.28\n"
     ]
    }
   ],
   "source": [
    "import pandas as pd\n",
    "\n",
    "# Min e Max\n",
    "idade_min = df['Tempo_de_carreira'].min()\n",
    "idade_max = df['Tempo_de_carreira'].max()\n",
    "\n",
    "# Média\n",
    "media = df['Tempo_de_carreira'].mean()\n",
    "\n",
    "# Calcular os quartis\n",
    "primeiro_quartil = df['Tempo_de_carreira'].quantile(0.25)\n",
    "segundo_quartil = df['Tempo_de_carreira'].quantile(0.50)  # Mediana\n",
    "terceiro_quartil = df['Tempo_de_carreira'].quantile(0.75)\n",
    "\n",
    "print(\"O Tempo_de_carreira mínimo é:\", idade_min)\n",
    "print(\"Primeiro quartil (Q1):\", primeiro_quartil)\n",
    "print(\"Segundo quartil (Q2 - Mediana):\", segundo_quartil)\n",
    "print(\"Terceiro quartil (Q3):\", terceiro_quartil)\n",
    "print(\"O Tempo_de_carreira máximo é:\", idade_max)\n",
    "print(\"A média de Tempo_de_carreira máximo é:\", round(media,2))"
   ]
  },
  {
   "cell_type": "code",
   "execution_count": 18,
   "id": "bef3fe71-efd8-4d38-9ade-57898ee25552",
   "metadata": {},
   "outputs": [
    {
     "data": {
      "image/png": "[encoded data removed]",
      "text/plain": [
       "<Figure size 640x480 with 1 Axes>"
      ]
     },
     "metadata": {},
     "output_type": "display_data"
    }
   ],
   "source": [
    "import matplotlib.pyplot as plt\n",
    "\n",
    "df = pd.read_csv(r\"C:\\Users\\rodol\\Videos\\Desktop\\Projetos\\Churn_funcionarios\\Base_RH_csv2.csv\", sep=';', encoding='latin-1')\n",
    "\n",
    "def plot_histograma(dados, coluna, bins=8):\n",
    "    # Criar o histograma e obter os dados das barras\n",
    "    counts, bins, patches = plt.hist(dados[coluna], bins=bins, color='skyblue', edgecolor='black')\n",
    "\n",
    "    # Adicionar título e rótulos\n",
    "    plt.title(f'Histograma da variável {coluna}', fontsize=16)\n",
    "    plt.xlabel(coluna, fontsize=14)\n",
    "    plt.ylabel('Frequência', fontsize=14)\n",
    "\n",
    "    # Adicionar rótulos de frequências acima de cada barra\n",
    "    for count, bin_edge in zip(counts, bins):\n",
    "        plt.text(bin_edge + (bins[1] - bins[0]) / 2, count, str(int(count)), ha='center', va='bottom')\n",
    "\n",
    "    # Mostrar o gráfico\n",
    "    plt.show()\n",
    "\n",
    "\n",
    "plot_histograma(df, 'Tempo_de_carreira', bins=8)"
   ]
  }
 ],
 "metadata": {
  "kernelspec": {
   "display_name": "Python 3 (ipykernel)",
   "language": "python",
   "name": "python3"
  },
  "language_info": {
   "codemirror_mode": {
    "name": "ipython",
    "version": 3
   },
   "file_extension": ".py",
   "mimetype": "text/x-python",
   "name": "python",
   "nbconvert_exporter": "python",
   "pygments_lexer": "ipython3",
   "version": "3.11.7"
  }
 },
 "nbformat": 4,
 "nbformat_minor": 5
}
