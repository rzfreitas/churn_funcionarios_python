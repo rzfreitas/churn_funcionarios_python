{
 "cells": [
  {
   "cell_type": "markdown",
   "id": "f2303cdf-ce15-411e-816e-bed71aafea2b",
   "metadata": {},
   "source": [
    "# Quantidade ações na empresa"
   ]
  },
  {
   "cell_type": "code",
   "execution_count": 2,
   "id": "e506b3e3-9f56-4eb6-b75d-510ab7c85520",
   "metadata": {},
   "outputs": [
    {
     "data": {
      "text/html": [
       "<div>\n",
       "<style scoped>\n",
       "    .dataframe tbody tr th:only-of-type {\n",
       "        vertical-align: middle;\n",
       "    }\n",
       "\n",
       "    .dataframe tbody tr th {\n",
       "        vertical-align: top;\n",
       "    }\n",
       "\n",
       "    .dataframe thead th {\n",
       "        text-align: right;\n",
       "    }\n",
       "</style>\n",
       "<table border=\"1\" class=\"dataframe\">\n",
       "  <thead>\n",
       "    <tr style=\"text-align: right;\">\n",
       "      <th></th>\n",
       "      <th>Frequência Absoluta</th>\n",
       "      <th>Frequência Relativa</th>\n",
       "      <th>Frequência Acumulada</th>\n",
       "    </tr>\n",
       "    <tr>\n",
       "      <th>Qte_ações_da_empresa</th>\n",
       "      <th></th>\n",
       "      <th></th>\n",
       "      <th></th>\n",
       "    </tr>\n",
       "  </thead>\n",
       "  <tbody>\n",
       "    <tr>\n",
       "      <th>0</th>\n",
       "      <td>631</td>\n",
       "      <td>43.0</td>\n",
       "      <td>43.0</td>\n",
       "    </tr>\n",
       "    <tr>\n",
       "      <th>1</th>\n",
       "      <td>596</td>\n",
       "      <td>41.0</td>\n",
       "      <td>83.0</td>\n",
       "    </tr>\n",
       "    <tr>\n",
       "      <th>2</th>\n",
       "      <td>158</td>\n",
       "      <td>11.0</td>\n",
       "      <td>94.0</td>\n",
       "    </tr>\n",
       "    <tr>\n",
       "      <th>3</th>\n",
       "      <td>85</td>\n",
       "      <td>6.0</td>\n",
       "      <td>100.0</td>\n",
       "    </tr>\n",
       "  </tbody>\n",
       "</table>\n",
       "</div>"
      ],
      "text/plain": [
       "                      Frequência Absoluta  Frequência Relativa  \\\n",
       "Qte_ações_da_empresa                                             \n",
       "0                                     631                 43.0   \n",
       "1                                     596                 41.0   \n",
       "2                                     158                 11.0   \n",
       "3                                      85                  6.0   \n",
       "\n",
       "                      Frequência Acumulada  \n",
       "Qte_ações_da_empresa                        \n",
       "0                                     43.0  \n",
       "1                                     83.0  \n",
       "2                                     94.0  \n",
       "3                                    100.0  "
      ]
     },
     "metadata": {},
     "output_type": "display_data"
    }
   ],
   "source": [
    "import pandas as pd\n",
    "\n",
    "df = pd.read_csv(r\"C:\\Users\\rodol\\Videos\\Desktop\\Projetos\\Churn_funcionarios\\Base_RH_csv2.csv\", sep=';', encoding='latin-1')\n",
    "\n",
    "def calcular_frequencias_coluna(df, coluna):  \n",
    "    \n",
    "    # Calcula a frequência absoluta\n",
    "    frequencias_absolutas = df[coluna].value_counts().sort_index()\n",
    "    \n",
    "    # Total de elementos\n",
    "    total_elementos = len(df[coluna])\n",
    "    \n",
    "    # Calcula a frequência relativa\n",
    "    frequencias_relativas = (frequencias_absolutas / total_elementos) * 100\n",
    "    \n",
    "    # Calcula a frequência acumulada\n",
    "    frequencias_acumuladas = frequencias_relativas.cumsum()\n",
    "    \n",
    "    # Cria um DataFrame para organizar os resultados\n",
    "    resultados = pd.DataFrame({\n",
    "        'Frequência Absoluta': frequencias_absolutas,\n",
    "        'Frequência Relativa': round(frequencias_relativas, 0),\n",
    "        'Frequência Acumulada': round(frequencias_acumuladas, 0)\n",
    "    })\n",
    "    \n",
    "    return resultados\n",
    "\n",
    "# Supondo que você já tenha um DataFrame 'df' com a coluna 'Anos_com_o_mesmo_chefe'\n",
    "resultados = calcular_frequencias_coluna(df, 'Qte_ações_da_empresa')\n",
    "display(resultados)"
   ]
  },
  {
   "cell_type": "code",
   "execution_count": 8,
   "id": "7c3381a2-d3d6-4906-8cb4-7ef78b1496ae",
   "metadata": {},
   "outputs": [
    {
     "name": "stdout",
     "output_type": "stream",
     "text": [
      "O Qte_ações_da_empresa mínimo é: 0\n",
      "Primeiro quartil (Q1): 0.0\n",
      "Segundo quartil (Q2 - Mediana): 1.0\n",
      "Terceiro quartil (Q3): 1.0\n",
      "O Qte_ações_da_empresa máximo é: 3\n",
      "A média de Qte_ações_da_empresa máximo é: 0.79\n"
     ]
    }
   ],
   "source": [
    "import pandas as pd\n",
    "\n",
    "# Min e Max\n",
    "idade_min = df['Qte_ações_da_empresa'].min()\n",
    "idade_max = df['Qte_ações_da_empresa'].max()\n",
    "\n",
    "# Média\n",
    "media = df['Qte_ações_da_empresa'].mean()\n",
    "\n",
    "# Calcular os quartis\n",
    "primeiro_quartil = df['Qte_ações_da_empresa'].quantile(0.25)\n",
    "segundo_quartil = df['Qte_ações_da_empresa'].quantile(0.50)  # Mediana\n",
    "terceiro_quartil = df['Qte_ações_da_empresa'].quantile(0.75)\n",
    "\n",
    "print(\"O Qte_ações_da_empresa mínimo é:\", idade_min)\n",
    "print(\"Primeiro quartil (Q1):\", primeiro_quartil)\n",
    "print(\"Segundo quartil (Q2 - Mediana):\", segundo_quartil)\n",
    "print(\"Terceiro quartil (Q3):\", terceiro_quartil)\n",
    "print(\"O Qte_ações_da_empresa máximo é:\", idade_max)\n",
    "print(\"A média de Qte_ações_da_empresa máximo é:\", round(media,2))"
   ]
  },
  {
   "cell_type": "code",
   "execution_count": 6,
   "id": "f7e8d1c4-b6ea-4061-9fb2-7f7d8b2d5e59",
   "metadata": {},
   "outputs": [
    {
     "data": {
      "image/png": "[encoded data removed]",
      "text/plain": [
       "<Figure size 640x480 with 1 Axes>"
      ]
     },
     "metadata": {},
     "output_type": "display_data"
    }
   ],
   "source": [
    "import matplotlib.pyplot as plt\n",
    "\n",
    "def plot_histograma(dados, coluna, bins=4):\n",
    "    # Criar o histograma e obter os dados das barras\n",
    "    counts, bins, patches = plt.hist(dados[coluna], bins=bins, color='skyblue', edgecolor='black')\n",
    "\n",
    "    # Adicionar título e rótulos\n",
    "    plt.title(f'Histograma da variável {coluna}', fontsize=16)\n",
    "    plt.xlabel(coluna, fontsize=14)\n",
    "    plt.ylabel('Frequência', fontsize=14)\n",
    "\n",
    "    # Adicionar rótulos de frequências acima de cada barra\n",
    "    for count, bin_edge in zip(counts, bins):\n",
    "        plt.text(bin_edge + (bins[1] - bins[0]) / 2, count, str(int(count)), ha='center', va='bottom')\n",
    "\n",
    "    # Mostrar o gráfico\n",
    "    plt.show()\n",
    "\n",
    "\n",
    "plot_histograma(df, 'Qte_ações_da_empresa', bins=4)"
   ]
  }
 ],
 "metadata": {
  "kernelspec": {
   "display_name": "Python 3 (ipykernel)",
   "language": "python",
   "name": "python3"
  },
  "language_info": {
   "codemirror_mode": {
    "name": "ipython",
    "version": 3
   },
   "file_extension": ".py",
   "mimetype": "text/x-python",
   "name": "python",
   "nbconvert_exporter": "python",
   "pygments_lexer": "ipython3",
   "version": "3.11.7"
  }
 },
 "nbformat": 4,
 "nbformat_minor": 5
}
