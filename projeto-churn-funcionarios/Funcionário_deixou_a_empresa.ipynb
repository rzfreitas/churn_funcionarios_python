{
 "cells": [
  {
   "cell_type": "markdown",
   "id": "33644a68-e358-4a59-8766-1a88be790e18",
   "metadata": {},
   "source": [
    "# Funcionário deixou a empresa"
   ]
  },
  {
   "cell_type": "code",
   "execution_count": 4,
   "id": "b6261c76-c75c-4312-9968-d155ea0c94ee",
   "metadata": {},
   "outputs": [
    {
     "data": {
      "text/html": [
       "<div>\n",
       "<style scoped>\n",
       "    .dataframe tbody tr th:only-of-type {\n",
       "        vertical-align: middle;\n",
       "    }\n",
       "\n",
       "    .dataframe tbody tr th {\n",
       "        vertical-align: top;\n",
       "    }\n",
       "\n",
       "    .dataframe thead th {\n",
       "        text-align: right;\n",
       "    }\n",
       "</style>\n",
       "<table border=\"1\" class=\"dataframe\">\n",
       "  <thead>\n",
       "    <tr style=\"text-align: right;\">\n",
       "      <th></th>\n",
       "      <th>Frequência Absoluta</th>\n",
       "      <th>Frequência Relativa</th>\n",
       "      <th>Frequência Acumulada</th>\n",
       "    </tr>\n",
       "    <tr>\n",
       "      <th>Funcionário_deixou_a_empresa</th>\n",
       "      <th></th>\n",
       "      <th></th>\n",
       "      <th></th>\n",
       "    </tr>\n",
       "  </thead>\n",
       "  <tbody>\n",
       "    <tr>\n",
       "      <th>Não</th>\n",
       "      <td>1233</td>\n",
       "      <td>84.0</td>\n",
       "      <td>84.0</td>\n",
       "    </tr>\n",
       "    <tr>\n",
       "      <th>Sim</th>\n",
       "      <td>237</td>\n",
       "      <td>16.0</td>\n",
       "      <td>100.0</td>\n",
       "    </tr>\n",
       "  </tbody>\n",
       "</table>\n",
       "</div>"
      ],
      "text/plain": [
       "                              Frequência Absoluta  Frequência Relativa  \\\n",
       "Funcionário_deixou_a_empresa                                             \n",
       "Não                                          1233                 84.0   \n",
       "Sim                                           237                 16.0   \n",
       "\n",
       "                              Frequência Acumulada  \n",
       "Funcionário_deixou_a_empresa                        \n",
       "Não                                           84.0  \n",
       "Sim                                          100.0  "
      ]
     },
     "metadata": {},
     "output_type": "display_data"
    }
   ],
   "source": [
    "import pandas as pd\n",
    "\n",
    "df = pd.read_csv(r\"C:\\Users\\rodol\\Videos\\Desktop\\Projetos\\Churn_funcionarios\\Base_RH_csv.csv\", sep=';', encoding='latin-1')\n",
    "\n",
    "def calcular_frequencias_coluna(df, coluna):  \n",
    "    \n",
    "    # Calcula a frequência absoluta\n",
    "    frequencias_absolutas = df[coluna].value_counts().sort_index()\n",
    "    \n",
    "    # Total de elementos\n",
    "    total_elementos = len(df[coluna])\n",
    "    \n",
    "    # Calcula a frequência relativa\n",
    "    frequencias_relativas = (frequencias_absolutas / total_elementos) * 100\n",
    "    \n",
    "    # Calcula a frequência acumulada\n",
    "    frequencias_acumuladas = frequencias_relativas.cumsum()\n",
    "    \n",
    "    # Cria um DataFrame para organizar os resultados\n",
    "    resultados = pd.DataFrame({\n",
    "        'Frequência Absoluta': frequencias_absolutas,\n",
    "        'Frequência Relativa': round(frequencias_relativas, 0),\n",
    "        'Frequência Acumulada': round(frequencias_acumuladas, 0)\n",
    "    })\n",
    "    \n",
    "    return resultados\n",
    "\n",
    "# Supondo que você já tenha um DataFrame 'df' com a coluna 'Anos_com_o_mesmo_chefe'\n",
    "resultados = calcular_frequencias_coluna(df, 'Funcionário_deixou_a_empresa')\n",
    "display(resultados)"
   ]
  },
  {
   "cell_type": "code",
   "execution_count": 10,
   "id": "df0a0f64-2e6a-4af1-91a7-a0c8edee18d4",
   "metadata": {},
   "outputs": [
    {
     "data": {
      "image/png": "[encoded data removed]",
      "text/plain": [
       "<Figure size 800x600 with 1 Axes>"
      ]
     },
     "metadata": {},
     "output_type": "display_data"
    }
   ],
   "source": [
    "import matplotlib.pyplot as plt\n",
    "\n",
    "# Dados para o gráfico de pizza\n",
    "labels = ['Sim', 'Não']\n",
    "sizes = [237, 1233]  # Valores correspondentes\n",
    "colors = ['steelblue', 'lightskyblue']\n",
    "\n",
    "# Criando o gráfico de pizza\n",
    "plt.figure(figsize=(8, 6))\n",
    "plt.pie(sizes, labels=labels, colors=colors,\n",
    "        autopct='%1.0f%%', startangle=140)\n",
    "\n",
    "# Equalizando o aspecto do gráfico para que ele fique como um círculo\n",
    "plt.axis('equal')  \n",
    "plt.title('Gráfico de Pizza')\n",
    "plt.show()\n"
   ]
  }
 ],
 "metadata": {
  "kernelspec": {
   "display_name": "Python 3 (ipykernel)",
   "language": "python",
   "name": "python3"
  },
  "language_info": {
   "codemirror_mode": {
    "name": "ipython",
    "version": 3
   },
   "file_extension": ".py",
   "mimetype": "text/x-python",
   "name": "python",
   "nbconvert_exporter": "python",
   "pygments_lexer": "ipython3",
   "version": "3.11.7"
  }
 },
 "nbformat": 4,
 "nbformat_minor": 5
}
