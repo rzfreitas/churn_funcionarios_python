{
 "cells": [
  {
   "cell_type": "markdown",
   "id": "284e4f7c-d4a1-41dd-aa2b-e89533ed6379",
   "metadata": {},
   "source": [
    "# Faz hora extra"
   ]
  },
  {
   "cell_type": "code",
   "execution_count": 30,
   "id": "659fd7e2-2afd-40b3-858b-118eaa356e9f",
   "metadata": {},
   "outputs": [
    {
     "data": {
      "text/html": [
       "<div>\n",
       "<style scoped>\n",
       "    .dataframe tbody tr th:only-of-type {\n",
       "        vertical-align: middle;\n",
       "    }\n",
       "\n",
       "    .dataframe tbody tr th {\n",
       "        vertical-align: top;\n",
       "    }\n",
       "\n",
       "    .dataframe thead th {\n",
       "        text-align: right;\n",
       "    }\n",
       "</style>\n",
       "<table border=\"1\" class=\"dataframe\">\n",
       "  <thead>\n",
       "    <tr style=\"text-align: right;\">\n",
       "      <th></th>\n",
       "      <th>Frequência Absoluta</th>\n",
       "      <th>Frequência Relativa</th>\n",
       "      <th>Frequência Acumulada</th>\n",
       "    </tr>\n",
       "    <tr>\n",
       "      <th>Faz_hora_extras?</th>\n",
       "      <th></th>\n",
       "      <th></th>\n",
       "      <th></th>\n",
       "    </tr>\n",
       "  </thead>\n",
       "  <tbody>\n",
       "    <tr>\n",
       "      <th>Não</th>\n",
       "      <td>1054</td>\n",
       "      <td>72.0</td>\n",
       "      <td>72.0</td>\n",
       "    </tr>\n",
       "    <tr>\n",
       "      <th>Sim</th>\n",
       "      <td>416</td>\n",
       "      <td>28.0</td>\n",
       "      <td>100.0</td>\n",
       "    </tr>\n",
       "  </tbody>\n",
       "</table>\n",
       "</div>"
      ],
      "text/plain": [
       "                  Frequência Absoluta  Frequência Relativa  \\\n",
       "Faz_hora_extras?                                             \n",
       "Não                              1054                 72.0   \n",
       "Sim                               416                 28.0   \n",
       "\n",
       "                  Frequência Acumulada  \n",
       "Faz_hora_extras?                        \n",
       "Não                               72.0  \n",
       "Sim                              100.0  "
      ]
     },
     "metadata": {},
     "output_type": "display_data"
    }
   ],
   "source": [
    "import pandas as pd\n",
    "\n",
    "df = pd.read_csv(r\"C:\\Users\\rodol\\Videos\\Desktop\\Projetos\\Churn_funcionarios\\Base_RH_csv2.csv\", sep=';', encoding='latin-1')\n",
    "\n",
    "def calcular_frequencias_coluna(df, coluna):  \n",
    "    \n",
    "    # Calcula a frequência absoluta\n",
    "    frequencias_absolutas = df[coluna].value_counts().sort_index()\n",
    "    \n",
    "    # Total de elementos\n",
    "    total_elementos = len(df[coluna])\n",
    "    \n",
    "    # Calcula a frequência relativa\n",
    "    frequencias_relativas = (frequencias_absolutas / total_elementos) * 100\n",
    "    \n",
    "    # Calcula a frequência acumulada\n",
    "    frequencias_acumuladas = frequencias_relativas.cumsum()\n",
    "    \n",
    "    # Cria um DataFrame para organizar os resultados\n",
    "    resultados = pd.DataFrame({\n",
    "        'Frequência Absoluta': frequencias_absolutas,\n",
    "        'Frequência Relativa': round(frequencias_relativas, 0),\n",
    "        'Frequência Acumulada': round(frequencias_acumuladas, 0)\n",
    "    })\n",
    "    \n",
    "    return resultados\n",
    "\n",
    "# Supondo que você já tenha um DataFrame 'df' com a coluna 'Anos_com_o_mesmo_chefe'\n",
    "resultados = calcular_frequencias_coluna(df, 'Faz_hora_extras?')\n",
    "display(resultados)"
   ]
  },
  {
   "cell_type": "code",
   "execution_count": 58,
   "id": "ad3fddb1-516a-4d78-b734-43638e9c2881",
   "metadata": {},
   "outputs": [
    {
     "data": {
      "image/png": "[encoded data removed]",
      "text/plain": [
       "<Figure size 800x600 with 1 Axes>"
      ]
     },
     "metadata": {},
     "output_type": "display_data"
    }
   ],
   "source": [
    "import matplotlib.pyplot as plt\n",
    "\n",
    "# Dados para o gráfico de pizza\n",
    "labels = ['Sim', 'Não']\n",
    "sizes = [416, 1054]  # Valores correspondentes\n",
    "colors = ['steelblue', 'lightskyblue']\n",
    "\n",
    "# Criando o gráfico de pizza\n",
    "plt.figure(figsize=(8, 6))\n",
    "plt.pie(sizes, labels=labels, colors=colors,\n",
    "        autopct='%1.0f%%', startangle=140)\n",
    "\n",
    "# Equalizando o aspecto do gráfico para que ele fique como um círculo\n",
    "plt.axis('equal')  \n",
    "plt.title('Gráfico de Pizza')\n",
    "plt.show()\n"
   ]
  }
 ],
 "metadata": {
  "kernelspec": {
   "display_name": "Python 3 (ipykernel)",
   "language": "python",
   "name": "python3"
  },
  "language_info": {
   "codemirror_mode": {
    "name": "ipython",
    "version": 3
   },
   "file_extension": ".py",
   "mimetype": "text/x-python",
   "name": "python",
   "nbconvert_exporter": "python",
   "pygments_lexer": "ipython3",
   "version": "3.11.7"
  }
 },
 "nbformat": 4,
 "nbformat_minor": 5
}
